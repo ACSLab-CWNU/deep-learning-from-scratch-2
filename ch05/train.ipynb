{
  "cells": [
    {
      "cell_type": "code",
      "metadata": {},
      "source": [
        "# coding: utf-8\n",
        "import sys\n",
        "sys.path.append('..')\n",
        "from common.optimizer import SGD\n",
        "from common.trainer import RnnlmTrainer\n",
        "from dataset import ptb\n",
        "from simple_rnnlm import SimpleRnnlm\n",
        "\n",
        "\n",
        "# \ud558\uc774\ud37c\ud30c\ub77c\ubbf8\ud130 \uc124\uc815\n",
        "batch_size = 10\n",
        "wordvec_size = 100\n",
        "hidden_size = 100  # RNN\uc758 \uc740\ub2c9 \uc0c1\ud0dc \ubca1\ud130\uc758 \uc6d0\uc18c \uc218\n",
        "time_size = 5  # RNN\uc744 \ud3bc\uce58\ub294 \ud06c\uae30\n",
        "lr = 0.1\n",
        "max_epoch = 100\n",
        "\n",
        "# \ud559\uc2b5 \ub370\uc774\ud130 \uc77d\uae30\n",
        "corpus, word_to_id, id_to_word = ptb.load_data('train')\n",
        "corpus_size = 1000  # \ud14c\uc2a4\ud2b8 \ub370\uc774\ud130\uc14b\uc744 \uc791\uac8c \uc124\uc815\n",
        "corpus = corpus[:corpus_size]\n",
        "vocab_size = int(max(corpus) + 1)\n",
        "xs = corpus[:-1]  # \uc785\ub825\n",
        "ts = corpus[1:]  # \ucd9c\ub825\uff08\uc815\ub2f5 \ub808\uc774\ube14\uff09\n",
        "\n",
        "# \ubaa8\ub378 \uc0dd\uc131\n",
        "model = SimpleRnnlm(vocab_size, wordvec_size, hidden_size)\n",
        "optimizer = SGD(lr)\n",
        "trainer = RnnlmTrainer(model, optimizer)\n",
        "\n",
        "trainer.fit(xs, ts, max_epoch, batch_size, time_size)\n",
        "trainer.plot()\n"
      ],
      "outputs": [],
      "execution_count": null
    }
  ],
  "metadata": {
    "anaconda-cloud": {},
    "kernelspec": {
      "display_name": "Python 3",
      "language": "python",
      "name": "python3"
    },
    "language_info": {
      "codemirror_mode": {
        "name": "ipython",
        "version": 3
      },
      "file_extension": ".py",
      "mimetype": "text/x-python",
      "name": "python",
      "nbconvert_exporter": "python",
      "pygments_lexer": "ipython3",
      "version": "3.6.1"
    }
  },
  "nbformat": 4,
  "nbformat_minor": 4
}