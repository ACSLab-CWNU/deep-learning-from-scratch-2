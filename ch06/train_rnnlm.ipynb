{
  "cells": [
    {
      "cell_type": "code",
      "metadata": {},
      "source": [
        "# coding: utf-8\n",
        "import sys\n",
        "sys.path.append('..')\n",
        "from common.optimizer import SGD\n",
        "from common.trainer import RnnlmTrainer\n",
        "from common.util import eval_perplexity\n",
        "from dataset import ptb\n",
        "from rnnlm import Rnnlm\n",
        "\n",
        "\n",
        "# \ud558\uc774\ud37c\ud30c\ub77c\ubbf8\ud130 \uc124\uc815\n",
        "batch_size = 20\n",
        "wordvec_size = 100\n",
        "hidden_size = 100  # RNN\uc758 \uc740\ub2c9 \uc0c1\ud0dc \ubca1\ud130\uc758 \uc6d0\uc18c \uc218\n",
        "time_size = 35     # RNN\uc744 \ud3bc\uce58\ub294 \ud06c\uae30\n",
        "lr = 20.0\n",
        "max_epoch = 4\n",
        "max_grad = 0.25\n",
        "\n",
        "# \ud559\uc2b5 \ub370\uc774\ud130 \uc77d\uae30\n",
        "corpus, word_to_id, id_to_word = ptb.load_data('train')\n",
        "corpus_test, _, _ = ptb.load_data('test')\n",
        "vocab_size = len(word_to_id)\n",
        "xs = corpus[:-1]\n",
        "ts = corpus[1:]\n",
        "\n",
        "# \ubaa8\ub378 \uc0dd\uc131\n",
        "model = Rnnlm(vocab_size, wordvec_size, hidden_size)\n",
        "optimizer = SGD(lr)\n",
        "trainer = RnnlmTrainer(model, optimizer)\n",
        "\n",
        "# \uae30\uc6b8\uae30 \ud074\ub9ac\ud551\uc744 \uc801\uc6a9\ud558\uc5ec \ud559\uc2b5\n",
        "trainer.fit(xs, ts, max_epoch, batch_size, time_size, max_grad,\n",
        "            eval_interval=20)\n",
        "trainer.plot(ylim=(0, 500))\n",
        "\n",
        "# \ud14c\uc2a4\ud2b8 \ub370\uc774\ud130\ub85c \ud3c9\uac00\n",
        "model.reset_state()\n",
        "ppl_test = eval_perplexity(model, corpus_test)\n",
        "print('\ud14c\uc2a4\ud2b8 \ud37c\ud50c\ub809\uc11c\ud2f0: ', ppl_test)\n",
        "\n",
        "# \ub9e4\uac1c\ubcc0\uc218 \uc800\uc7a5\n",
        "model.save_params()\n"
      ],
      "outputs": [],
      "execution_count": null
    }
  ],
  "metadata": {
    "anaconda-cloud": {},
    "kernelspec": {
      "display_name": "Python 3",
      "language": "python",
      "name": "python3"
    },
    "language_info": {
      "codemirror_mode": {
        "name": "ipython",
        "version": 3
      },
      "file_extension": ".py",
      "mimetype": "text/x-python",
      "name": "python",
      "nbconvert_exporter": "python",
      "pygments_lexer": "ipython3",
      "version": "3.6.1"
    }
  },
  "nbformat": 4,
  "nbformat_minor": 4
}