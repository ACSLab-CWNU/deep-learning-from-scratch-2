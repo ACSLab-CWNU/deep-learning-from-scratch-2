{
  "cells": [
    {
      "cell_type": "code",
      "metadata": {},
      "source": [
        "# coding: utf-8\n",
        "import sys\n",
        "sys.path.append('..')\n",
        "from rnnlm import Rnnlm\n",
        "from better_rnnlm import BetterRnnlm\n",
        "from dataset import ptb\n",
        "from common.util import eval_perplexity\n",
        "\n",
        "\n",
        "if __name__ == '__main__':\n",
        "    model = Rnnlm()\n",
        "    #model = BetterRnnlm()\n",
        "\n",
        "    # \ud559\uc2b5\ub41c \ub9e4\uac1c\ubcc0\uc218 \uc77d\uae30\n",
        "    model.load_params()\n",
        "\n",
        "    corpus, _, _ = ptb.load_data('test')\n",
        "\n",
        "    model.reset_state()\n",
        "    ppl_test = eval_perplexity(model, corpus)\n",
        "    print('test perplexity: ', ppl_test)\n"
      ],
      "outputs": [],
      "execution_count": null
    }
  ],
  "metadata": {
    "anaconda-cloud": {},
    "kernelspec": {
      "display_name": "Python 3",
      "language": "python",
      "name": "python3"
    },
    "language_info": {
      "codemirror_mode": {
        "name": "ipython",
        "version": 3
      },
      "file_extension": ".py",
      "mimetype": "text/x-python",
      "name": "python",
      "nbconvert_exporter": "python",
      "pygments_lexer": "ipython3",
      "version": "3.6.1"
    }
  },
  "nbformat": 4,
  "nbformat_minor": 4
}