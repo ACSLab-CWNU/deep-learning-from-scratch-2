{
  "cells": [
    {
      "cell_type": "code",
      "metadata": {},
      "source": [
        "# coding: utf-8\n",
        "import numpy as np\n",
        "import matplotlib.pyplot as plt\n",
        "\n",
        "\n",
        "N = 2   # \ubbf8\ub2c8\ubc30\uce58 \ud06c\uae30\n",
        "H = 3   # \uc740\ub2c9 \uc0c1\ud0dc \ubca1\ud130\uc758 \ucc28\uc6d0 \uc218\n",
        "T = 20  # \uc2dc\uacc4\uc5f4 \ub370\uc774\ud130\uc758 \uae38\uc774\n",
        "\n",
        "dh = np.ones((N, H))\n",
        "\n",
        "np.random.seed(3) # \uc7ac\ud604\ud560 \uc218 \uc788\ub3c4\ub85d \ub09c\uc218\uc758 \uc2dc\ub4dc \uace0\uc815\n",
        "\n",
        "Wh = np.random.randn(H, H)\n",
        "#Wh = np.random.randn(H, H) * 0.5\n",
        "\n",
        "norm_list = []\n",
        "for t in range(T):\n",
        "    dh = np.dot(dh, Wh.T)\n",
        "    norm = np.sqrt(np.sum(dh**2)) / N\n",
        "    norm_list.append(norm)\n",
        "\n",
        "print(norm_list)\n",
        "\n",
        "# \uadf8\ub798\ud504 \uadf8\ub9ac\uae30\n",
        "plt.plot(np.arange(len(norm_list)), norm_list)\n",
        "plt.xticks([0, 4, 9, 14, 19], [1, 5, 10, 15, 20])\n",
        "plt.xlabel('\uc2dc\uac04 \ud06c\uae30(time step)')\n",
        "plt.ylabel('\ub178\ub984(norm)')\n",
        "plt.show()\n"
      ],
      "outputs": [],
      "execution_count": null
    }
  ],
  "metadata": {
    "anaconda-cloud": {},
    "kernelspec": {
      "display_name": "Python 3",
      "language": "python",
      "name": "python3"
    },
    "language_info": {
      "codemirror_mode": {
        "name": "ipython",
        "version": 3
      },
      "file_extension": ".py",
      "mimetype": "text/x-python",
      "name": "python",
      "nbconvert_exporter": "python",
      "pygments_lexer": "ipython3",
      "version": "3.6.1"
    }
  },
  "nbformat": 4,
  "nbformat_minor": 4
}